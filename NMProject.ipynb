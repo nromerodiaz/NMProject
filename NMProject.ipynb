{
 "cells": [
  {
   "cell_type": "markdown",
   "metadata": {},
   "source": [
    "# Problema de Merton: alocación óptima en un portafolio"
   ]
  },
  {
   "cell_type": "markdown",
   "metadata": {},
   "source": [
    "#### Nicolás Romero Díaz\n",
    "#### Maestría en Finanzas Cuantitativas"
   ]
  },
  {
   "cell_type": "markdown",
   "metadata": {},
   "source": [
    "## Modelo de mercado"
   ]
  },
  {
   "cell_type": "markdown",
   "metadata": {},
   "source": [
    "Nuestro mercado consiste en dos activos. Un activo riesgoso $S_t$ y un activo libre de riesgo $B_t$:\n",
    "\n",
    "$$dS_t = S_t(\\mu dt + \\sigma dW_t)$$\n",
    "$$dB_t = rB_tdt$$\n",
    "\n",
    "Invertimos una proporción de capital $\\pi$ en el activo $S_t$, de tal forma tenemos que el proceso de precios de nuestro portafolio $$X_t = S_t + B_t$$ será:\n",
    "$$dX_t = X_t \\left[ (r-\\pi (\\mu -r))dt + \\pi\\sigma dW_t \\right]$$\n",
    "\n",
    "Asumimos que el inversionista tiene una función de utilidad hiperbólica HARA de la forma:\n",
    "\n",
    "$$U(x)=\\frac{x^{\\gamma}}{\\gamma} \\;\\ \\gamma\\in(0, 1)$$"
   ]
  },
  {
   "cell_type": "markdown",
   "metadata": {},
   "source": [
    "## Método Monte-Carlo"
   ]
  },
  {
   "cell_type": "markdown",
   "metadata": {},
   "source": [
    "Asumiendo una estrategia $\\pi$ constante, simulamos varios caminos para el proceso de riqueza $V(t, x)$. Discretizando la estrategia $\\pi_i \\in [0, 1]$ simulamos caminos para $X_t$. El objetivo del inversionsta es:\n",
    "\n",
    "$$\\max_{\\pi_t}\\left\\{ \\mathbb{E}\\left[ U(X_T^{\\pi}) | X_t = x \\right] \\right\\}$$\n",
    "\n",
    "Tras tener los caminos de $X_t$ para cada estrategia, aplicamos Monte-Carlo en la esperanza para maximizar sobre todos los valores de $U(X_T^{\\pi})$\n",
    "\n",
    "Se utilizan los siguientes parámetros para la simulación:\n",
    "\n",
    " * $r=0.06$\n",
    " * $\\mu = 0.1$\n",
    " * $\\sigma = 0.35$\n",
    " * $X_0 = 100$\n",
    " * $T=1$\n",
    " * $\\gamma = 0.25$"
   ]
  },
  {
   "cell_type": "markdown",
   "metadata": {},
   "source": [
    "## Aplicación"
   ]
  },
  {
   "cell_type": "markdown",
   "metadata": {},
   "source": [
    "El valor del portafolio sigue la ecuación:\n",
    "\n",
    "$$X_t = X_0 \\exp \\left\\{ \\left[  r-\\pi(\\mu-r) -\\frac{1}{2}\\pi^2\\sigma^2\\right]T + \\pi\\sigma\\sqrt{T}\\ Z\\right\\}$$\n",
    "\n",
    "$$Z\\sim \\mathcal{N}(0, 1)$$"
   ]
  },
  {
   "cell_type": "code",
   "execution_count": 1,
   "metadata": {},
   "outputs": [],
   "source": [
    "import numpy as np\n",
    "import random as rd\n",
    "import matplotlib.pyplot as plt"
   ]
  },
  {
   "cell_type": "code",
   "execution_count": 2,
   "metadata": {},
   "outputs": [],
   "source": [
    "# Definimos los parametros\n",
    "\n",
    "pmt = {'r': 0.06, 'mu': 0.1, 'sigma': 0.35, 'X0': 100., 'T': 1., 'gamma': 0.25}"
   ]
  },
  {
   "cell_type": "code",
   "execution_count": 3,
   "metadata": {},
   "outputs": [],
   "source": [
    "# Definimos la funcion de drift\n",
    "\n",
    "def drift(param, prop):\n",
    "    return param['r'] + prop*(param['mu'] - param['r']) - 0.5*(param['sigma']*param['sigma']*prop*prop)"
   ]
  },
  {
   "cell_type": "code",
   "execution_count": 4,
   "metadata": {},
   "outputs": [],
   "source": [
    "# Simulamos el precio del portafolio\n",
    "\n",
    "def PortfolioPrice(param, N_steps, prop):\n",
    "    p = [0.0]*(N_steps)\n",
    "    p[0] = param['X0']\n",
    "    \n",
    "    for i in range(1, N_steps):\n",
    "        p[i] = param['X0']*np.exp(drift(param, prop)+ prop*param['sigma']*np.sqrt(param['T'])*rd.normalvariate(0, 1))\n",
    "        \n",
    "    return p"
   ]
  },
  {
   "cell_type": "code",
   "execution_count": 5,
   "metadata": {},
   "outputs": [],
   "source": [
    "# Definimos nuestra funcion de utilidad\n",
    "\n",
    "def Utility(param, x):\n",
    "    return np.power(x, param['gamma'])/param['gamma']"
   ]
  },
  {
   "cell_type": "code",
   "execution_count": 11,
   "metadata": {},
   "outputs": [],
   "source": [
    "# Generamos N_path simulaciones del valor del portafolio\n",
    "\n",
    "# Esta funcion retorna una lista que contiene la proporcion, la riqueza final media y la utilidad media\n",
    "# dada una proporcion pi y simulando un numero N_path de caminos\n",
    "\n",
    "def GeneratePaths(param, N_path, N_steps, prop):\n",
    "    #path = []\n",
    "    U = []\n",
    "    XT = []\n",
    "    \n",
    "    for i in range(N_path):\n",
    "        temp = PortfolioPrice(param, N_steps, prop)\n",
    "        XT.append(temp[-1])\n",
    "        #path.append(temp)\n",
    "        U.append(Utility(param, XT[i]))\n",
    "        \n",
    "    return prop, np.mean(XT), np.mean(U) #path, np.mean(U)"
   ]
  },
  {
   "cell_type": "code",
   "execution_count": 12,
   "metadata": {},
   "outputs": [],
   "source": [
    "# Definimos la funcion que nos calcula la utilidad esperada para cada pi\n",
    "\n",
    "def MaximumProportion(param, N_path, N_steps):\n",
    "    proportion = [i/100 for i in range(101)]\n",
    "    result = []\n",
    "    for i in range(len(proportion)):\n",
    "        temp = GeneratePaths(param, N_path, N_steps, proportion[i])\n",
    "        result.append(temp)\n",
    "    return result"
   ]
  },
  {
   "cell_type": "markdown",
   "metadata": {},
   "source": [
    "Ahora simulamos N_path$ = 500$ simulaciones para múltiples estrategias: $$\\pi = [0.00, 0.01, 0.02, \\dots, 0.99, 1.00]$$"
   ]
  },
  {
   "cell_type": "code",
   "execution_count": 17,
   "metadata": {},
   "outputs": [],
   "source": [
    "N_paths = 10000\n",
    "N_step  = 100"
   ]
  },
  {
   "cell_type": "code",
   "execution_count": 18,
   "metadata": {},
   "outputs": [],
   "source": [
    "test = MaximumProportion(pmt, N_paths, N_step)"
   ]
  },
  {
   "cell_type": "code",
   "execution_count": 19,
   "metadata": {},
   "outputs": [
    {
     "data": {
      "text/plain": [
       "[(0.0, 106.18365465453597, 12.840277467117396),\n",
       " (0.01, 106.22487566753919, 12.84150863780804),\n",
       " (0.02, 106.25984949684077, 12.842520654118871),\n",
       " (0.03, 106.31379827005658, 12.84407630727334),\n",
       " (0.04, 106.33520096224963, 12.844622588543512),\n",
       " (0.05, 106.36788778878024, 12.845471292403136),\n",
       " (0.06, 106.46664997789166, 12.848286305665908),\n",
       " (0.07, 106.5354426547202, 12.850186461209161),\n",
       " (0.08, 106.53362168937164, 12.849893288662656),\n",
       " (0.09, 106.56842129966272, 12.85070532376627),\n",
       " (0.1, 106.64272816570886, 12.852676949519127),\n",
       " (0.11, 106.69795398324617, 12.85396992987204),\n",
       " (0.12, 106.69605217401502, 12.853653294099168),\n",
       " (0.13, 106.67846726339012, 12.852656057232981),\n",
       " (0.14, 106.7085528645234, 12.853232602093875),\n",
       " (0.15, 106.79998890239946, 12.855478466745758),\n",
       " (0.16, 106.90543023635485, 12.85828038710107),\n",
       " (0.17, 106.89629320594659, 12.857520809496235),\n",
       " (0.18, 107.10911125086402, 12.863388359995469),\n",
       " (0.19, 106.97143748888909, 12.858689360443126),\n",
       " (0.2, 106.97313030219827, 12.858225272382933),\n",
       " (0.21, 107.07089990315498, 12.860527906555971),\n",
       " (0.22, 107.28962044030528, 12.86642349064681),\n",
       " (0.23, 107.21376586013832, 12.86327443596827),\n",
       " (0.24, 107.16703870123001, 12.861428411349669),\n",
       " (0.25, 107.18853036419669, 12.861286608899576),\n",
       " (0.26, 107.38297518559641, 12.866525021574557),\n",
       " (0.27, 107.45520311561071, 12.867169547044918),\n",
       " (0.28, 107.41685817377609, 12.865889889683974),\n",
       " (0.29, 107.31589078567261, 12.861658176632133),\n",
       " (0.3, 107.4786951981952, 12.86601687451933),\n",
       " (0.31, 107.35861760562044, 12.861541026459054),\n",
       " (0.32, 107.41768748170794, 12.862112009518645),\n",
       " (0.33, 107.6542917964845, 12.868344885350464),\n",
       " (0.34, 107.77381566937349, 12.870982149729759),\n",
       " (0.35, 107.47537761943191, 12.860875979092686),\n",
       " (0.36, 107.49961023880094, 12.860726034127543),\n",
       " (0.37, 107.88678920056398, 12.87095665644992),\n",
       " (0.38, 108.04098084379876, 12.874038141110034),\n",
       " (0.39, 107.83250511995023, 12.867461206775292),\n",
       " (0.4, 107.88812074352924, 12.867990529564308),\n",
       " (0.41, 107.98926424898794, 12.869657707359828),\n",
       " (0.42, 108.0488497910283, 12.869998041578105),\n",
       " (0.43, 107.9250890616687, 12.865432140634313),\n",
       " (0.44, 108.28375438025466, 12.8746836254266),\n",
       " (0.45, 108.09215867230277, 12.867597205423509),\n",
       " (0.46, 108.31355360966981, 12.873287576626751),\n",
       " (0.47, 108.11383711792487, 12.865459780402135),\n",
       " (0.48, 108.42103847829647, 12.873815527917515),\n",
       " (0.49, 108.39433305776056, 12.870837337928201),\n",
       " (0.5, 108.10816824594932, 12.861153070654836),\n",
       " (0.51, 108.78834455322624, 12.879478358891248),\n",
       " (0.52, 108.20745351719658, 12.860959079346253),\n",
       " (0.53, 108.46449775370297, 12.867376595697543),\n",
       " (0.54, 108.36779841438909, 12.862868735377077),\n",
       " (0.55, 108.36892059696284, 12.860963826045895),\n",
       " (0.56, 108.57830237246009, 12.864901136880118),\n",
       " (0.57, 108.73461209129935, 12.867980166348792),\n",
       " (0.58, 108.64653256609898, 12.863858346667881),\n",
       " (0.59, 108.69112146697366, 12.863695302841245),\n",
       " (0.6, 108.58640754799964, 12.859311346842441),\n",
       " (0.61, 108.70928208695655, 12.860617121505548),\n",
       " (0.62, 109.19921311009995, 12.873883031361601),\n",
       " (0.63, 108.77425619132316, 12.858479802393445),\n",
       " (0.64, 109.40422303947709, 12.874417276702388),\n",
       " (0.65, 108.9628293868539, 12.86064365914998),\n",
       " (0.66, 109.06852314975959, 12.860469338211045),\n",
       " (0.67, 108.99981833234331, 12.857918333469952),\n",
       " (0.68, 109.31825702134667, 12.864603695218243),\n",
       " (0.69, 109.12300725034393, 12.858297725821341),\n",
       " (0.7, 109.25152666777849, 12.859946484485176),\n",
       " (0.71, 108.95995550552209, 12.849588578979574),\n",
       " (0.72, 109.39236856081465, 12.860696959918178),\n",
       " (0.73, 109.37742206307198, 12.854849244410351),\n",
       " (0.74, 109.27262676001494, 12.850996084143913),\n",
       " (0.75, 109.29390171380325, 12.849703354424603),\n",
       " (0.76, 109.40858635492813, 12.853376660140786),\n",
       " (0.77, 109.35643867984679, 12.848201352620718),\n",
       " (0.78, 109.74733553832758, 12.857002580951317),\n",
       " (0.79, 109.7017367690874, 12.852252774615076),\n",
       " (0.8, 109.61262553563643, 12.847523886164376),\n",
       " (0.81, 109.52810603460848, 12.843435017597372),\n",
       " (0.82, 109.80964542201087, 12.849956815801729),\n",
       " (0.83, 109.55475867244913, 12.837500311324973),\n",
       " (0.84, 109.33965200878232, 12.82988866227968),\n",
       " (0.85, 110.35685302988915, 12.855703537105725),\n",
       " (0.86, 110.15434976635692, 12.848310924407045),\n",
       " (0.87, 110.03136766419739, 12.84225645301626),\n",
       " (0.88, 109.62712596754369, 12.830930967585871),\n",
       " (0.89, 109.70003448829688, 12.826258446506754),\n",
       " (0.9, 110.43064727303079, 12.844455018931138),\n",
       " (0.91, 110.07585106222902, 12.832355513291274),\n",
       " (0.92, 110.77848633196302, 12.847957473916862),\n",
       " (0.93, 110.09138809144369, 12.825319332804295),\n",
       " (0.94, 109.84603905020468, 12.817172246857433),\n",
       " (0.95, 110.59473474814533, 12.835791132987159),\n",
       " (0.96, 109.66691797289269, 12.806365195227222),\n",
       " (0.97, 111.13737491835552, 12.848209003187504),\n",
       " (0.98, 110.51720897307098, 12.826754220378426),\n",
       " (0.99, 110.15690751695091, 12.812122245673931),\n",
       " (1.0, 110.50270688484164, 12.822234912553276)]"
      ]
     },
     "execution_count": 19,
     "metadata": {},
     "output_type": "execute_result"
    }
   ],
   "source": [
    "test"
   ]
  },
  {
   "cell_type": "code",
   "execution_count": null,
   "metadata": {},
   "outputs": [],
   "source": []
  }
 ],
 "metadata": {
  "kernelspec": {
   "display_name": "Python 3",
   "language": "python",
   "name": "python3"
  },
  "language_info": {
   "codemirror_mode": {
    "name": "ipython",
    "version": 3
   },
   "file_extension": ".py",
   "mimetype": "text/x-python",
   "name": "python",
   "nbconvert_exporter": "python",
   "pygments_lexer": "ipython3",
   "version": "3.6.6"
  }
 },
 "nbformat": 4,
 "nbformat_minor": 2
}
