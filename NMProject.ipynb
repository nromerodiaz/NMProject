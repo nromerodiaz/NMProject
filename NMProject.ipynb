{
 "cells": [
  {
   "cell_type": "markdown",
   "metadata": {},
   "source": [
    "# Problema de Merton: alocación óptima en un portafolio"
   ]
  },
  {
   "cell_type": "markdown",
   "metadata": {},
   "source": [
    "#### Nicolás Romero Díaz\n",
    "#### Maestría en Finanzas Cuantitativas"
   ]
  },
  {
   "cell_type": "markdown",
   "metadata": {},
   "source": [
    "## Modelo de mercado"
   ]
  },
  {
   "cell_type": "markdown",
   "metadata": {},
   "source": [
    "Nuestro mercado consiste en dos activos. Un activo riesgoso $S_t$ y un activo libre de riesgo $B_t$:\n",
    "\n",
    "$$dS_t = S_t(\\mu dt + \\sigma dW_t)$$\n",
    "$$dB_t = rB_tdt$$\n",
    "\n",
    "Invertimos una proporción de capital $\\pi$ en el activo $S_t$, de tal forma tenemos que el proceso de precios de nuestro portafolio $$X_t = S_t + B_t$$ será:\n",
    "$$dX_t = X_t \\left[ (r-\\pi (\\mu -r))dt + \\pi\\sigma dW_t \\right]$$\n",
    "\n",
    "Asumimos que el inversionista tiene una función de utilidad hiperbólica HARA de la forma:\n",
    "\n",
    "$$U(x)=\\frac{x^{\\gamma}}{\\gamma} \\;\\ \\gamma\\in(0, 1)$$"
   ]
  },
  {
   "cell_type": "markdown",
   "metadata": {},
   "source": [
    "## Método Monte-Carlo"
   ]
  },
  {
   "cell_type": "markdown",
   "metadata": {},
   "source": [
    "Asumiendo una estrategia $\\pi$ constante, simulamos varios caminos para el proceso de riqueza $V(t, x)$. Discretizando la estrategia $\\pi_i \\in [0, 1]$ simulamos caminos para $X_t$. El objetivo del inversionsta es:\n",
    "\n",
    "$$\\max_{\\pi_t}\\left\\{ \\mathbb{E}\\left[ U(X_T^{\\pi}) | X_t = x \\right] \\right\\}$$\n",
    "\n",
    "Tras tener los caminos de $X_t$ para cada estrategia, aplicamos Monte-Carlo en la esperanza para maximizar sobre todos los valores de $U(X_T^{\\pi})$\n",
    "\n",
    "Se utilizan los siguientes parámetros para la simulación:\n",
    "\n",
    " * $r=0.06$\n",
    " * $\\mu = 0.1$\n",
    " * $\\sigma = 0.35$\n",
    " * $X_0 = 100$\n",
    " * $T=1$\n",
    " * $\\gamma = 0.25$"
   ]
  },
  {
   "cell_type": "markdown",
   "metadata": {},
   "source": [
    "El valor del portafolio sigue la ecuación:\n",
    "\n",
    "$$X_t = X_0 \\exp \\left\\{ \\left[  r-\\pi(\\mu-r) -\\frac{1}{2}\\pi^2\\sigma^2\\right](T-t) + \\pi\\sigma\\sqrt{T-t}\\ Z\\right\\}$$\n",
    "\n",
    "$$Z\\sim \\mathcal{N}(0, 1)$$"
   ]
  },
  {
   "cell_type": "code",
   "execution_count": 1,
   "metadata": {},
   "outputs": [],
   "source": [
    "import numpy as np\n",
    "import random as rd\n",
    "import time\n",
    "import matplotlib.pyplot as plt"
   ]
  },
  {
   "cell_type": "code",
   "execution_count": 2,
   "metadata": {},
   "outputs": [],
   "source": [
    "# Definimos los parametros\n",
    "\n",
    "pmt = {'r': 0.06, 'mu': 0.1, 'sigma': 0.35, 'X0': 100., 'T': 1., 'gamma': 0.25}"
   ]
  },
  {
   "cell_type": "markdown",
   "metadata": {},
   "source": [
    "## Simulación directa de la riqueza final"
   ]
  },
  {
   "cell_type": "markdown",
   "metadata": {},
   "source": [
    "Utilizando esta metodología, no se simulan los caminos aleatorios del valor del portafolio. En este caso, se simula directamente el valor del portafolio en el tiempo $T$"
   ]
  },
  {
   "cell_type": "code",
   "execution_count": 3,
   "metadata": {},
   "outputs": [],
   "source": [
    "# Definimos la funcion de retorno medio\n",
    "\n",
    "def MeanReturn(param, prop):\n",
    "    return param['r'] + prop*(param['mu'] - param['r']) - 0.5*(param['sigma']*param['sigma']*prop*prop)"
   ]
  },
  {
   "cell_type": "code",
   "execution_count": 4,
   "metadata": {},
   "outputs": [],
   "source": [
    "# Simulamos la riqueza final del inversionista\n",
    "\n",
    "def FinalWealth(param, N_sim, prop):\n",
    "    p = [0.0]*(N_sim)\n",
    "    \n",
    "    for i in range(N_sim):\n",
    "        p[i] = param['X0']*np.exp(MeanReturn(param, prop)\n",
    "                                  +prop*param['sigma']*np.sqrt(param['T'])*rd.normalvariate(0, 1))\n",
    "        \n",
    "    return p"
   ]
  },
  {
   "cell_type": "code",
   "execution_count": 5,
   "metadata": {},
   "outputs": [],
   "source": [
    "# Definimos nuestra funcion de utilidad\n",
    "\n",
    "def Utility(param, x):\n",
    "    return np.power(x, param['gamma'])/param['gamma']"
   ]
  },
  {
   "cell_type": "code",
   "execution_count": 6,
   "metadata": {},
   "outputs": [],
   "source": [
    "# Definimos una funcion que encuentre la proporcion de capital que\n",
    "# maximiza la riqueza final\n",
    "\n",
    "def FindMaxProportion(param, N_path, N_steps):\n",
    "    #start = time.time()\n",
    "    proportion = [i/100 for i in range(101)]\n",
    "    U_ = []\n",
    "    \n",
    "    for j in range(len(proportion)):\n",
    "        XT = FinalWealth(param, N_path, proportion[j])\n",
    "        UT = Utility(param, XT)\n",
    "        U_.append(np.mean(UT))\n",
    "        \n",
    "    max_idx = np.argmax(U_)\n",
    "    #print(time.time()-start)\n",
    "    \n",
    "    return proportion[max_idx]"
   ]
  },
  {
   "cell_type": "markdown",
   "metadata": {},
   "source": [
    "# Aplicación"
   ]
  },
  {
   "cell_type": "markdown",
   "metadata": {},
   "source": [
    "Por la naturaleza del método Monte Carlo, siempre vamos a obtener un resultado algo distinto. Por lo tanto, se harán $100$ simulaciones del proceso de generación de caminos. "
   ]
  },
  {
   "cell_type": "code",
   "execution_count": 27,
   "metadata": {},
   "outputs": [
    {
     "name": "stdout",
     "output_type": "stream",
     "text": [
      "314.32665276527405\n"
     ]
    }
   ],
   "source": [
    "max_proportions = []\n",
    "strt = time.time()\n",
    "for i in range(100):\n",
    "    dgg = FindMaxProportion(pmt, 10000, 100)\n",
    "    max_proportions.append(dgg)\n",
    "print(time.time()-strt)"
   ]
  },
  {
   "cell_type": "code",
   "execution_count": 57,
   "metadata": {},
   "outputs": [],
   "source": [
    "plt.figure(figsize=(10,7))\n",
    "plt.plot(max_proportions, marker='o')\n",
    "plt.axhline(y=0.43537, color='r', linestyle='--')\n",
    "plt.axhline(y=0.48537, color='y', linestyle='--')\n",
    "plt.axhline(y=0.38537537, color='y', linestyle='--')\n",
    "plt.grid(True, linestyle='--')\n",
    "plt.title(\"Optimal proportion values\",fontsize=25)\n",
    "plt.ylabel(r'$\\pi$', fontsize=20)\n",
    "plt.show()\n",
    "#plt.savefig('results.pdf', bbox_inches=\"tight\")"
   ]
  },
  {
   "cell_type": "code",
   "execution_count": 55,
   "metadata": {},
   "outputs": [
    {
     "data": {
      "text/plain": [
       "[0.54,\n",
       " 0.44,\n",
       " 0.62,\n",
       " 0.41,\n",
       " 0.53,\n",
       " 0.52,\n",
       " 0.37,\n",
       " 0.44,\n",
       " 0.47,\n",
       " 0.68,\n",
       " 0.49,\n",
       " 0.55,\n",
       " 0.41,\n",
       " 0.64,\n",
       " 0.59,\n",
       " 0.59,\n",
       " 0.59,\n",
       " 0.38,\n",
       " 0.43,\n",
       " 0.64,\n",
       " 0.53,\n",
       " 0.7,\n",
       " 0.39,\n",
       " 0.64,\n",
       " 0.8,\n",
       " 0.62,\n",
       " 0.42,\n",
       " 0.42,\n",
       " 0.47,\n",
       " 0.44,\n",
       " 0.4,\n",
       " 0.53,\n",
       " 0.65,\n",
       " 0.49,\n",
       " 0.42,\n",
       " 0.61,\n",
       " 0.56,\n",
       " 0.6,\n",
       " 0.59,\n",
       " 0.42,\n",
       " 0.56,\n",
       " 0.52,\n",
       " 0.45,\n",
       " 0.65,\n",
       " 0.66,\n",
       " 0.69,\n",
       " 0.5,\n",
       " 0.35,\n",
       " 0.44,\n",
       " 0.38,\n",
       " 0.44,\n",
       " 0.57,\n",
       " 0.6,\n",
       " 0.5,\n",
       " 0.44,\n",
       " 0.53,\n",
       " 0.61,\n",
       " 0.59,\n",
       " 0.45,\n",
       " 0.62,\n",
       " 0.58,\n",
       " 0.47,\n",
       " 0.55,\n",
       " 0.48,\n",
       " 0.71,\n",
       " 0.48,\n",
       " 0.48,\n",
       " 0.44,\n",
       " 0.61,\n",
       " 0.64,\n",
       " 0.47,\n",
       " 0.58,\n",
       " 0.71,\n",
       " 0.57,\n",
       " 0.34,\n",
       " 0.38,\n",
       " 0.46,\n",
       " 0.5,\n",
       " 0.48,\n",
       " 0.34,\n",
       " 0.58,\n",
       " 0.59,\n",
       " 0.54,\n",
       " 0.57,\n",
       " 0.44,\n",
       " 0.52,\n",
       " 0.38,\n",
       " 0.39,\n",
       " 0.53,\n",
       " 0.38,\n",
       " 0.51,\n",
       " 0.47,\n",
       " 0.62,\n",
       " 0.67,\n",
       " 0.44,\n",
       " 0.58,\n",
       " 0.44,\n",
       " 0.6,\n",
       " 0.57,\n",
       " 0.62]"
      ]
     },
     "execution_count": 55,
     "metadata": {},
     "output_type": "execute_result"
    }
   ],
   "source": [
    "max_proportions"
   ]
  },
  {
   "cell_type": "code",
   "execution_count": 34,
   "metadata": {},
   "outputs": [],
   "source": [
    "plt.figure(figsize=(10,7))\n",
    "plt.rcParams.update({'font.size': 20})\n",
    "plt.title(\"Optimal proportion results\", fontsize = 25)\n",
    "#plt.text(0.44, 4.7, r'$\\pi = 43.537\\%$', fontsize = 20)\n",
    "plt.text(0.44, 11, r'$\\pi = 43.537\\%$', fontsize = 20)\n",
    "plt.xlabel(r'$\\pi$', fontsize = 20)\n",
    "plt.grid(True, linestyle=\"--\")\n",
    "plt.axvline(x=0.43537, linestyle=\"--\", color=\"magenta\")\n",
    "plt.hist(np.array(max_proportions), bins=20, normed=False, alpha=0.9, color=\"chartreuse\")\n",
    "plt.savefig('prop-hist-opt.pdf', bbox_inches=\"tight\")\n",
    "#plt.show()"
   ]
  },
  {
   "cell_type": "code",
   "execution_count": 125,
   "metadata": {},
   "outputs": [
    {
     "data": {
      "image/png": "[encoded data removed]",
      "text/plain": [
       "<matplotlib.figure.Figure at 0x7f423180d438>"
      ]
     },
     "metadata": {},
     "output_type": "display_data"
    }
   ],
   "source": [
    "rrr = FinalWealth(pmt, 100, 0.43)\n",
    "plt.plot(rrr)\n",
    "plt.show()"
   ]
  },
  {
   "cell_type": "markdown",
   "metadata": {},
   "source": [
    "## Simulación de la riqueza a través del tiempo"
   ]
  },
  {
   "cell_type": "code",
   "execution_count": null,
   "metadata": {},
   "outputs": [],
   "source": [
    "def drift(param, prop):\n",
    "    return param['r'] + prop*(param['mu'] - param['r'])"
   ]
  },
  {
   "cell_type": "code",
   "execution_count": 42,
   "metadata": {},
   "outputs": [],
   "source": [
    "def PortfolioPath(param, N_steps, prop):\n",
    "    dt = float(param['T'])/N_steps\n",
    "    P = [[0.0]*(N_steps+1), [param['X0']]*(N_steps+1)]\n",
    "    \n",
    "    for i in range(N_steps+1):\n",
    "        P[0][i] = P[0][i-1] + dt\n",
    "        P[1][i] = P[1][i-1] + drift(param, prop)*dt + prop*param['sigma']*np.sqrt(dt)*rd.normalvariate(0, 1)\n",
    "    return P"
   ]
  },
  {
   "cell_type": "code",
   "execution_count": 117,
   "metadata": {},
   "outputs": [],
   "source": [
    "# Generamos N_path simulaciones del valor del portafolio\n",
    "\n",
    "# Esta funcion retorna una lista que contiene la proporcion, la riqueza final media y la utilidad media\n",
    "# dada una proporcion pi y simulando un numero N_path de caminos\n",
    "\n",
    "def GeneratePaths(param, N_path, N_steps, prop):\n",
    "    U = []\n",
    "    XT = []\n",
    "    \n",
    "    for i in range(N_path):\n",
    "        temp = PortfolioPath(param, N_steps, prop)\n",
    "        XT.append(temp[1][-1]) # POR FAVOR QUE SEA ESTO\n",
    "        U.append(Utility(param, XT[i]))\n",
    "        \n",
    "    return prop, np.mean(XT), np.mean(U) #path, np.mean(U)"
   ]
  },
  {
   "cell_type": "code",
   "execution_count": 106,
   "metadata": {},
   "outputs": [],
   "source": [
    "# Definimos la funcion que nos calcula la utilidad esperada para cada pi\n",
    "\n",
    "def MaximumProportion(param, N_path, N_steps):\n",
    "    start = time.time()\n",
    "    proportion = [i/100 for i in range(101)]\n",
    "    res_x = []\n",
    "    res_u = []\n",
    "    for i in range(len(proportion)):\n",
    "        temp_prop, temp_x, temp_u = GeneratePaths(param, N_path, N_steps, proportion[i])\n",
    "        res_x.append(temp_x)\n",
    "        res_u.append(temp_u)\n",
    "        \n",
    "    max_idx = sorted(range(len(res_u)), key=lambda i: res_u[i])[-5:]\n",
    "    max_res = []\n",
    "    for j in max_idx:\n",
    "        max_row = [proportion[j], res_x[j], res_u[j]]\n",
    "        max_res.append(max_row)\n",
    "    print(time.time() - start)\n",
    "        \n",
    "    return max_res"
   ]
  },
  {
   "cell_type": "markdown",
   "metadata": {},
   "source": [
    "Ahora simulamos N_path$ = 500$ simulaciones para múltiples estrategias: $$\\pi = [0.00, 0.01, 0.02, \\dots, 0.99, 1.00]$$"
   ]
  },
  {
   "cell_type": "code",
   "execution_count": 107,
   "metadata": {},
   "outputs": [],
   "source": [
    "N_paths = 10000\n",
    "N_step  = 100"
   ]
  },
  {
   "cell_type": "code",
   "execution_count": 112,
   "metadata": {},
   "outputs": [
    {
     "data": {
      "text/plain": [
       "(2, 101)"
      ]
     },
     "execution_count": 112,
     "metadata": {},
     "output_type": "execute_result"
    }
   ],
   "source": [
    "tsst = PortfolioPath(pmt, N_step, 0.43)\n",
    "np.shape(tsst)\n",
    "#print(tsst[1])"
   ]
  },
  {
   "cell_type": "code",
   "execution_count": 120,
   "metadata": {},
   "outputs": [
    {
     "data": {
      "image/png": "[encoded data removed]",
      "text/plain": [
       "<matplotlib.figure.Figure at 0x7f4231b8bef0>"
      ]
     },
     "metadata": {},
     "output_type": "display_data"
    },
    {
     "data": {
      "text/plain": [
       "100.01179846012259"
      ]
     },
     "execution_count": 120,
     "metadata": {},
     "output_type": "execute_result"
    }
   ],
   "source": [
    "plt.plot(tsst[0], tsst[1])\n",
    "plt.show()\n",
    "tsst[-1][0]"
   ]
  },
  {
   "cell_type": "code",
   "execution_count": 118,
   "metadata": {},
   "outputs": [
    {
     "name": "stdout",
     "output_type": "stream",
     "text": [
      "258.35882568359375\n"
     ]
    }
   ],
   "source": [
    "test = MaximumProportion(pmt, N_paths, N_step)"
   ]
  },
  {
   "cell_type": "code",
   "execution_count": 119,
   "metadata": {},
   "outputs": [
    {
     "data": {
      "text/plain": [
       "[[0.97, 100.1008601100492, 12.652285023624099],\n",
       " [0.82, 100.10265438242516, 12.652345966715863],\n",
       " [1.0, 100.10335554911069, 12.652362968683207],\n",
       " [0.99, 100.10469308248445, 12.652405725153582],\n",
       " [0.92, 100.10592293333958, 12.652446002223709]]"
      ]
     },
     "execution_count": 119,
     "metadata": {},
     "output_type": "execute_result"
    }
   ],
   "source": [
    "test\n",
    "#len(test[:][0]), len(test[0][:]), len(test[:][:])\n",
    "#test[1]"
   ]
  },
  {
   "cell_type": "code",
   "execution_count": 75,
   "metadata": {},
   "outputs": [
    {
     "data": {
      "text/plain": [
       "[0.02, 100.030164547364, 12.650064380852873]"
      ]
     },
     "execution_count": 75,
     "metadata": {},
     "output_type": "execute_result"
    }
   ],
   "source": [
    "test[:][2]"
   ]
  },
  {
   "cell_type": "code",
   "execution_count": null,
   "metadata": {},
   "outputs": [],
   "source": []
  }
 ],
 "metadata": {
  "kernelspec": {
   "display_name": "Python 3",
   "language": "python",
   "name": "python3"
  },
  "language_info": {
   "codemirror_mode": {
    "name": "ipython",
    "version": 3
   },
   "file_extension": ".py",
   "mimetype": "text/x-python",
   "name": "python",
   "nbconvert_exporter": "python",
   "pygments_lexer": "ipython3",
   "version": "3.6.7"
  }
 },
 "nbformat": 4,
 "nbformat_minor": 2
}
